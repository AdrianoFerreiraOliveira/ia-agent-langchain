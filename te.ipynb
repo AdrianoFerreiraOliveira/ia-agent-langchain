{
 "cells": [
  {
   "cell_type": "code",
   "execution_count": 1,
   "metadata": {},
   "outputs": [],
   "source": [
    "import pandas as pd"
   ]
  },
  {
   "cell_type": "code",
   "execution_count": 4,
   "metadata": {},
   "outputs": [
    {
     "data": {
      "text/plain": [
       "(       Row ID        Order ID  Order Date  Ship Date       Ship Mode  \\\n",
       " 0           1  US-2020-103800       43833      43837  Standard Class   \n",
       " 1           2  US-2020-112326       43834      43838  Standard Class   \n",
       " 2           3  US-2020-112326       43834      43838  Standard Class   \n",
       " 3           4  US-2020-112326       43834      43838  Standard Class   \n",
       " 4           5  US-2020-141817       43835      43842  Standard Class   \n",
       " ...       ...             ...         ...        ...             ...   \n",
       " 10189   10190  US-2023-143259       45290      45294  Standard Class   \n",
       " 10190   10191  US-2023-115427       45290      45294  Standard Class   \n",
       " 10191   10192  US-2023-156720       45290      45294  Standard Class   \n",
       " 10192   10193  US-2023-143259       45290      45294  Standard Class   \n",
       " 10193   10194  CA-2023-143500       45290      45294  Standard Class   \n",
       " \n",
       "       Customer ID      Customer Name      Segment Country/Region  \\\n",
       " 0        DP-13000      Darren Powers     Consumer  United States   \n",
       " 1        PO-19195      Phillina Ober  Home Office  United States   \n",
       " 2        PO-19195      Phillina Ober  Home Office  United States   \n",
       " 3        PO-19195      Phillina Ober  Home Office  United States   \n",
       " 4        MB-18085         Mick Brown     Consumer  United States   \n",
       " ...           ...                ...          ...            ...   \n",
       " 10189    PO-18865  Patrick O'Donnell     Consumer  United States   \n",
       " 10190    EB-13975         Erica Bern    Corporate  United States   \n",
       " 10191    JM-15580      Jill Matthias     Consumer  United States   \n",
       " 10192    PO-18865  Patrick O'Donnell     Consumer  United States   \n",
       " 10193    HO-15230        Harry Olson     Consumer         Canada   \n",
       " \n",
       "                 City  ... Postal Code   Region       Product ID  \\\n",
       " 0            Houston  ...       77095  Central  OFF-PA-10000174   \n",
       " 1         Naperville  ...       60540  Central  OFF-BI-10004094   \n",
       " 2         Naperville  ...       60540  Central  OFF-LA-10003223   \n",
       " 3         Naperville  ...       60540  Central  OFF-ST-10002743   \n",
       " 4       Philadelphia  ...       19143     East  OFF-AR-10003478   \n",
       " ...              ...  ...         ...      ...              ...   \n",
       " 10189  New York City  ...       10009     East  OFF-BI-10003684   \n",
       " 10190      Fairfield  ...       94533     West  OFF-BI-10004632   \n",
       " 10191       Loveland  ...       80538     West  OFF-FA-10003472   \n",
       " 10192  New York City  ...       10009     East  TEC-PH-10004774   \n",
       " 10193  Charlottetown  ...         C0A     East  OFF-BI-10004040   \n",
       " \n",
       "               Category Sub-Category  \\\n",
       " 0      Office Supplies        Paper   \n",
       " 1      Office Supplies      Binders   \n",
       " 2      Office Supplies       Labels   \n",
       " 3      Office Supplies      Storage   \n",
       " 4      Office Supplies          Art   \n",
       " ...                ...          ...   \n",
       " 10189  Office Supplies      Binders   \n",
       " 10190  Office Supplies      Binders   \n",
       " 10191  Office Supplies    Fasteners   \n",
       " 10192       Technology       Phones   \n",
       " 10193  Office Supplies      Binders   \n",
       " \n",
       "                                             Product Name    Sales Quantity  \\\n",
       " 0      Message Book, Wirebound, Four 5 1/2\" X 4\" Form...   16,448        2   \n",
       " 1             GBC Standard Plastic Binding Systems Combs     3,54        2   \n",
       " 2                                              Avery 508   11,784        3   \n",
       " 3                          SAFCO Boltless Steel Shelving  272,736        3   \n",
       " 4      Avery Hi-Liter EverBold Pen Style Fluorescent ...   19,536        3   \n",
       " ...                                                  ...      ...      ...   \n",
       " 10189               Wilson Jones Legal Size Ring Binders   52,776        3   \n",
       " 10190                                 GBC Binding covers    20,72        2   \n",
       " 10191                                Bagged Rubber Bands    3,024        3   \n",
       " 10192                          Gear Head AU3700S Headset    90,93        7   \n",
       " 10193                        Wilson Jones Impact Binders    3,024        3   \n",
       " \n",
       "        Discount    Profit  \n",
       " 0           0,2    5,5512  \n",
       " 1           0,8    -5,487  \n",
       " 2           0,2    4,2717  \n",
       " 3           0,2  -64,7748  \n",
       " 4           0,2     4,884  \n",
       " ...         ...       ...  \n",
       " 10189       0,2    19,791  \n",
       " 10190       0,2     6,475  \n",
       " 10191       0,2   -0,6048  \n",
       " 10192         0    2,7279  \n",
       " 10193       0,2   -0,6048  \n",
       " \n",
       " [10194 rows x 21 columns],)"
      ]
     },
     "execution_count": 4,
     "metadata": {},
     "output_type": "execute_result"
    }
   ],
   "source": [
    "pd.read_csv('df_rent.csv',encoding='ISO-8859-1', sep=';'),# error_bad_lines=False)"
   ]
  }
 ],
 "metadata": {
  "kernelspec": {
   "display_name": "venv",
   "language": "python",
   "name": "python3"
  },
  "language_info": {
   "codemirror_mode": {
    "name": "ipython",
    "version": 3
   },
   "file_extension": ".py",
   "mimetype": "text/x-python",
   "name": "python",
   "nbconvert_exporter": "python",
   "pygments_lexer": "ipython3",
   "version": "3.10.5"
  }
 },
 "nbformat": 4,
 "nbformat_minor": 2
}
